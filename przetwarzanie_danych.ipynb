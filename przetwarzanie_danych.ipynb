{
 "cells": [
  {
   "cell_type": "code",
   "execution_count": 3,
   "metadata": {
    "pycharm": {
     "name": "#%%\n"
    }
   },
   "outputs": [],
   "source": [
    "## Wyświetlenie danych wejściowych"
   ]
  },
  {
   "cell_type": "code",
   "execution_count": 4,
   "outputs": [
    {
     "data": {
      "text/plain": "            ID                      Name Sex   Age  Height  Weight  \\\n0            1                 A Dijiang   M  24.0   180.0    80.0   \n1            2                  A Lamusi   M  23.0   170.0    60.0   \n2            3       Gunnar Nielsen Aaby   M  24.0     NaN     NaN   \n3            4      Edgar Lindenau Aabye   M  34.0     NaN     NaN   \n4            5  Christine Jacoba Aaftink   F  21.0   185.0    82.0   \n...        ...                       ...  ..   ...     ...     ...   \n271111  135569                Andrzej ya   M  29.0   179.0    89.0   \n271112  135570                  Piotr ya   M  27.0   176.0    59.0   \n271113  135570                  Piotr ya   M  27.0   176.0    59.0   \n271114  135571        Tomasz Ireneusz ya   M  30.0   185.0    96.0   \n271115  135571        Tomasz Ireneusz ya   M  34.0   185.0    96.0   \n\n                  Team  NOC        Games  Year  Season            City  \\\n0                China  CHN  1992 Summer  1992  Summer       Barcelona   \n1                China  CHN  2012 Summer  2012  Summer          London   \n2              Denmark  DEN  1920 Summer  1920  Summer       Antwerpen   \n3       Denmark/Sweden  DEN  1900 Summer  1900  Summer           Paris   \n4          Netherlands  NED  1988 Winter  1988  Winter         Calgary   \n...                ...  ...          ...   ...     ...             ...   \n271111        Poland-1  POL  1976 Winter  1976  Winter       Innsbruck   \n271112          Poland  POL  2014 Winter  2014  Winter           Sochi   \n271113          Poland  POL  2014 Winter  2014  Winter           Sochi   \n271114          Poland  POL  1998 Winter  1998  Winter          Nagano   \n271115          Poland  POL  2002 Winter  2002  Winter  Salt Lake City   \n\n                Sport                                     Event Medal  \n0          Basketball               Basketball Men's Basketball   NaN  \n1                Judo              Judo Men's Extra-Lightweight   NaN  \n2            Football                   Football Men's Football   NaN  \n3          Tug-Of-War               Tug-Of-War Men's Tug-Of-War  Gold  \n4       Speed Skating          Speed Skating Women's 500 metres   NaN  \n...               ...                                       ...   ...  \n271111           Luge                Luge Mixed (Men)'s Doubles   NaN  \n271112    Ski Jumping  Ski Jumping Men's Large Hill, Individual   NaN  \n271113    Ski Jumping        Ski Jumping Men's Large Hill, Team   NaN  \n271114      Bobsleigh                      Bobsleigh Men's Four   NaN  \n271115      Bobsleigh                      Bobsleigh Men's Four   NaN  \n\n[271116 rows x 15 columns]",
      "text/html": "<div>\n<style scoped>\n    .dataframe tbody tr th:only-of-type {\n        vertical-align: middle;\n    }\n\n    .dataframe tbody tr th {\n        vertical-align: top;\n    }\n\n    .dataframe thead th {\n        text-align: right;\n    }\n</style>\n<table border=\"1\" class=\"dataframe\">\n  <thead>\n    <tr style=\"text-align: right;\">\n      <th></th>\n      <th>ID</th>\n      <th>Name</th>\n      <th>Sex</th>\n      <th>Age</th>\n      <th>Height</th>\n      <th>Weight</th>\n      <th>Team</th>\n      <th>NOC</th>\n      <th>Games</th>\n      <th>Year</th>\n      <th>Season</th>\n      <th>City</th>\n      <th>Sport</th>\n      <th>Event</th>\n      <th>Medal</th>\n    </tr>\n  </thead>\n  <tbody>\n    <tr>\n      <th>0</th>\n      <td>1</td>\n      <td>A Dijiang</td>\n      <td>M</td>\n      <td>24.0</td>\n      <td>180.0</td>\n      <td>80.0</td>\n      <td>China</td>\n      <td>CHN</td>\n      <td>1992 Summer</td>\n      <td>1992</td>\n      <td>Summer</td>\n      <td>Barcelona</td>\n      <td>Basketball</td>\n      <td>Basketball Men's Basketball</td>\n      <td>NaN</td>\n    </tr>\n    <tr>\n      <th>1</th>\n      <td>2</td>\n      <td>A Lamusi</td>\n      <td>M</td>\n      <td>23.0</td>\n      <td>170.0</td>\n      <td>60.0</td>\n      <td>China</td>\n      <td>CHN</td>\n      <td>2012 Summer</td>\n      <td>2012</td>\n      <td>Summer</td>\n      <td>London</td>\n      <td>Judo</td>\n      <td>Judo Men's Extra-Lightweight</td>\n      <td>NaN</td>\n    </tr>\n    <tr>\n      <th>2</th>\n      <td>3</td>\n      <td>Gunnar Nielsen Aaby</td>\n      <td>M</td>\n      <td>24.0</td>\n      <td>NaN</td>\n      <td>NaN</td>\n      <td>Denmark</td>\n      <td>DEN</td>\n      <td>1920 Summer</td>\n      <td>1920</td>\n      <td>Summer</td>\n      <td>Antwerpen</td>\n      <td>Football</td>\n      <td>Football Men's Football</td>\n      <td>NaN</td>\n    </tr>\n    <tr>\n      <th>3</th>\n      <td>4</td>\n      <td>Edgar Lindenau Aabye</td>\n      <td>M</td>\n      <td>34.0</td>\n      <td>NaN</td>\n      <td>NaN</td>\n      <td>Denmark/Sweden</td>\n      <td>DEN</td>\n      <td>1900 Summer</td>\n      <td>1900</td>\n      <td>Summer</td>\n      <td>Paris</td>\n      <td>Tug-Of-War</td>\n      <td>Tug-Of-War Men's Tug-Of-War</td>\n      <td>Gold</td>\n    </tr>\n    <tr>\n      <th>4</th>\n      <td>5</td>\n      <td>Christine Jacoba Aaftink</td>\n      <td>F</td>\n      <td>21.0</td>\n      <td>185.0</td>\n      <td>82.0</td>\n      <td>Netherlands</td>\n      <td>NED</td>\n      <td>1988 Winter</td>\n      <td>1988</td>\n      <td>Winter</td>\n      <td>Calgary</td>\n      <td>Speed Skating</td>\n      <td>Speed Skating Women's 500 metres</td>\n      <td>NaN</td>\n    </tr>\n    <tr>\n      <th>...</th>\n      <td>...</td>\n      <td>...</td>\n      <td>...</td>\n      <td>...</td>\n      <td>...</td>\n      <td>...</td>\n      <td>...</td>\n      <td>...</td>\n      <td>...</td>\n      <td>...</td>\n      <td>...</td>\n      <td>...</td>\n      <td>...</td>\n      <td>...</td>\n      <td>...</td>\n    </tr>\n    <tr>\n      <th>271111</th>\n      <td>135569</td>\n      <td>Andrzej ya</td>\n      <td>M</td>\n      <td>29.0</td>\n      <td>179.0</td>\n      <td>89.0</td>\n      <td>Poland-1</td>\n      <td>POL</td>\n      <td>1976 Winter</td>\n      <td>1976</td>\n      <td>Winter</td>\n      <td>Innsbruck</td>\n      <td>Luge</td>\n      <td>Luge Mixed (Men)'s Doubles</td>\n      <td>NaN</td>\n    </tr>\n    <tr>\n      <th>271112</th>\n      <td>135570</td>\n      <td>Piotr ya</td>\n      <td>M</td>\n      <td>27.0</td>\n      <td>176.0</td>\n      <td>59.0</td>\n      <td>Poland</td>\n      <td>POL</td>\n      <td>2014 Winter</td>\n      <td>2014</td>\n      <td>Winter</td>\n      <td>Sochi</td>\n      <td>Ski Jumping</td>\n      <td>Ski Jumping Men's Large Hill, Individual</td>\n      <td>NaN</td>\n    </tr>\n    <tr>\n      <th>271113</th>\n      <td>135570</td>\n      <td>Piotr ya</td>\n      <td>M</td>\n      <td>27.0</td>\n      <td>176.0</td>\n      <td>59.0</td>\n      <td>Poland</td>\n      <td>POL</td>\n      <td>2014 Winter</td>\n      <td>2014</td>\n      <td>Winter</td>\n      <td>Sochi</td>\n      <td>Ski Jumping</td>\n      <td>Ski Jumping Men's Large Hill, Team</td>\n      <td>NaN</td>\n    </tr>\n    <tr>\n      <th>271114</th>\n      <td>135571</td>\n      <td>Tomasz Ireneusz ya</td>\n      <td>M</td>\n      <td>30.0</td>\n      <td>185.0</td>\n      <td>96.0</td>\n      <td>Poland</td>\n      <td>POL</td>\n      <td>1998 Winter</td>\n      <td>1998</td>\n      <td>Winter</td>\n      <td>Nagano</td>\n      <td>Bobsleigh</td>\n      <td>Bobsleigh Men's Four</td>\n      <td>NaN</td>\n    </tr>\n    <tr>\n      <th>271115</th>\n      <td>135571</td>\n      <td>Tomasz Ireneusz ya</td>\n      <td>M</td>\n      <td>34.0</td>\n      <td>185.0</td>\n      <td>96.0</td>\n      <td>Poland</td>\n      <td>POL</td>\n      <td>2002 Winter</td>\n      <td>2002</td>\n      <td>Winter</td>\n      <td>Salt Lake City</td>\n      <td>Bobsleigh</td>\n      <td>Bobsleigh Men's Four</td>\n      <td>NaN</td>\n    </tr>\n  </tbody>\n</table>\n<p>271116 rows × 15 columns</p>\n</div>"
     },
     "execution_count": 4,
     "metadata": {},
     "output_type": "execute_result"
    }
   ],
   "source": [
    "import pandas as pd\n",
    "\n",
    "df = pd.read_csv(\"athlete_events.csv\")\n",
    "df"
   ],
   "metadata": {
    "collapsed": false,
    "pycharm": {
     "name": "#%%\n"
    }
   }
  },
  {
   "cell_type": "code",
   "execution_count": 5,
   "outputs": [
    {
     "data": {
      "text/plain": "    Year  number_of_athlete\n0   1896                380\n1   1900               1936\n2   1904               1301\n3   1906               1733\n4   1908               3101\n5   1912               4040\n6   1920               4292\n7   1924               5693\n8   1928               5574\n9   1932               3321\n10  1936               7401\n11  1948               7480\n12  1952               9358\n13  1956               6434\n14  1960               9235\n15  1964               9480\n16  1968              10479\n17  1972              11959\n18  1976              10502\n19  1980               8937\n20  1984              11588\n21  1988              14676\n22  1992              16413\n23  1994               3160\n24  1996              13780\n25  1998               3605\n26  2000              13821\n27  2002               4109\n28  2004              13443\n29  2006               4382\n30  2008              13602\n31  2010               4402\n32  2012              12920\n33  2014               4891\n34  2016              13688",
      "text/html": "<div>\n<style scoped>\n    .dataframe tbody tr th:only-of-type {\n        vertical-align: middle;\n    }\n\n    .dataframe tbody tr th {\n        vertical-align: top;\n    }\n\n    .dataframe thead th {\n        text-align: right;\n    }\n</style>\n<table border=\"1\" class=\"dataframe\">\n  <thead>\n    <tr style=\"text-align: right;\">\n      <th></th>\n      <th>Year</th>\n      <th>number_of_athlete</th>\n    </tr>\n  </thead>\n  <tbody>\n    <tr>\n      <th>0</th>\n      <td>1896</td>\n      <td>380</td>\n    </tr>\n    <tr>\n      <th>1</th>\n      <td>1900</td>\n      <td>1936</td>\n    </tr>\n    <tr>\n      <th>2</th>\n      <td>1904</td>\n      <td>1301</td>\n    </tr>\n    <tr>\n      <th>3</th>\n      <td>1906</td>\n      <td>1733</td>\n    </tr>\n    <tr>\n      <th>4</th>\n      <td>1908</td>\n      <td>3101</td>\n    </tr>\n    <tr>\n      <th>5</th>\n      <td>1912</td>\n      <td>4040</td>\n    </tr>\n    <tr>\n      <th>6</th>\n      <td>1920</td>\n      <td>4292</td>\n    </tr>\n    <tr>\n      <th>7</th>\n      <td>1924</td>\n      <td>5693</td>\n    </tr>\n    <tr>\n      <th>8</th>\n      <td>1928</td>\n      <td>5574</td>\n    </tr>\n    <tr>\n      <th>9</th>\n      <td>1932</td>\n      <td>3321</td>\n    </tr>\n    <tr>\n      <th>10</th>\n      <td>1936</td>\n      <td>7401</td>\n    </tr>\n    <tr>\n      <th>11</th>\n      <td>1948</td>\n      <td>7480</td>\n    </tr>\n    <tr>\n      <th>12</th>\n      <td>1952</td>\n      <td>9358</td>\n    </tr>\n    <tr>\n      <th>13</th>\n      <td>1956</td>\n      <td>6434</td>\n    </tr>\n    <tr>\n      <th>14</th>\n      <td>1960</td>\n      <td>9235</td>\n    </tr>\n    <tr>\n      <th>15</th>\n      <td>1964</td>\n      <td>9480</td>\n    </tr>\n    <tr>\n      <th>16</th>\n      <td>1968</td>\n      <td>10479</td>\n    </tr>\n    <tr>\n      <th>17</th>\n      <td>1972</td>\n      <td>11959</td>\n    </tr>\n    <tr>\n      <th>18</th>\n      <td>1976</td>\n      <td>10502</td>\n    </tr>\n    <tr>\n      <th>19</th>\n      <td>1980</td>\n      <td>8937</td>\n    </tr>\n    <tr>\n      <th>20</th>\n      <td>1984</td>\n      <td>11588</td>\n    </tr>\n    <tr>\n      <th>21</th>\n      <td>1988</td>\n      <td>14676</td>\n    </tr>\n    <tr>\n      <th>22</th>\n      <td>1992</td>\n      <td>16413</td>\n    </tr>\n    <tr>\n      <th>23</th>\n      <td>1994</td>\n      <td>3160</td>\n    </tr>\n    <tr>\n      <th>24</th>\n      <td>1996</td>\n      <td>13780</td>\n    </tr>\n    <tr>\n      <th>25</th>\n      <td>1998</td>\n      <td>3605</td>\n    </tr>\n    <tr>\n      <th>26</th>\n      <td>2000</td>\n      <td>13821</td>\n    </tr>\n    <tr>\n      <th>27</th>\n      <td>2002</td>\n      <td>4109</td>\n    </tr>\n    <tr>\n      <th>28</th>\n      <td>2004</td>\n      <td>13443</td>\n    </tr>\n    <tr>\n      <th>29</th>\n      <td>2006</td>\n      <td>4382</td>\n    </tr>\n    <tr>\n      <th>30</th>\n      <td>2008</td>\n      <td>13602</td>\n    </tr>\n    <tr>\n      <th>31</th>\n      <td>2010</td>\n      <td>4402</td>\n    </tr>\n    <tr>\n      <th>32</th>\n      <td>2012</td>\n      <td>12920</td>\n    </tr>\n    <tr>\n      <th>33</th>\n      <td>2014</td>\n      <td>4891</td>\n    </tr>\n    <tr>\n      <th>34</th>\n      <td>2016</td>\n      <td>13688</td>\n    </tr>\n  </tbody>\n</table>\n</div>"
     },
     "execution_count": 5,
     "metadata": {},
     "output_type": "execute_result"
    }
   ],
   "source": [
    "# Zadanie 1\n",
    "years = sorted(set(df['Year']))\n",
    "result_dict = {year: 0 for year in years}\n",
    "\n",
    "for index, row in df.iterrows():\n",
    "    result_dict[row['Year']] += 1\n",
    "\n",
    "result_1 = pd.DataFrame({\"Year\": result_dict.keys(), \"number_of_athlete\": result_dict.values()})\n",
    "result_1"
   ],
   "metadata": {
    "collapsed": false,
    "pycharm": {
     "name": "#%%\n"
    }
   }
  },
  {
   "cell_type": "code",
   "execution_count": 5,
   "outputs": [],
   "source": [],
   "metadata": {
    "collapsed": false,
    "pycharm": {
     "name": "#%%\n"
    }
   }
  },
  {
   "cell_type": "code",
   "execution_count": 6,
   "outputs": [
    {
     "data": {
      "text/plain": "                                         Team  Average_male  Average_female\n0                        United States/France           2.0            0.00\n1                 Socit Nautique de Bayonne-2           8.0            0.00\n2                         Favorite Hammonia-3          11.0            0.00\n3     Philadelphia Turngemeinde, Philadelphia           6.0            0.00\n4                                    Kon-Tiki           2.0            0.00\n...                                       ...           ...             ...\n1179                               Yeoman XII           3.0            0.00\n1180                                     Skum           2.0            0.00\n1181                                 Buraddoo           3.0            0.00\n1182                              Puerto Rico          37.8            8.35\n1183                                  Dinah V           3.0            0.00\n\n[1184 rows x 3 columns]",
      "text/html": "<div>\n<style scoped>\n    .dataframe tbody tr th:only-of-type {\n        vertical-align: middle;\n    }\n\n    .dataframe tbody tr th {\n        vertical-align: top;\n    }\n\n    .dataframe thead th {\n        text-align: right;\n    }\n</style>\n<table border=\"1\" class=\"dataframe\">\n  <thead>\n    <tr style=\"text-align: right;\">\n      <th></th>\n      <th>Team</th>\n      <th>Average_male</th>\n      <th>Average_female</th>\n    </tr>\n  </thead>\n  <tbody>\n    <tr>\n      <th>0</th>\n      <td>United States/France</td>\n      <td>2.0</td>\n      <td>0.00</td>\n    </tr>\n    <tr>\n      <th>1</th>\n      <td>Socit Nautique de Bayonne-2</td>\n      <td>8.0</td>\n      <td>0.00</td>\n    </tr>\n    <tr>\n      <th>2</th>\n      <td>Favorite Hammonia-3</td>\n      <td>11.0</td>\n      <td>0.00</td>\n    </tr>\n    <tr>\n      <th>3</th>\n      <td>Philadelphia Turngemeinde, Philadelphia</td>\n      <td>6.0</td>\n      <td>0.00</td>\n    </tr>\n    <tr>\n      <th>4</th>\n      <td>Kon-Tiki</td>\n      <td>2.0</td>\n      <td>0.00</td>\n    </tr>\n    <tr>\n      <th>...</th>\n      <td>...</td>\n      <td>...</td>\n      <td>...</td>\n    </tr>\n    <tr>\n      <th>1179</th>\n      <td>Yeoman XII</td>\n      <td>3.0</td>\n      <td>0.00</td>\n    </tr>\n    <tr>\n      <th>1180</th>\n      <td>Skum</td>\n      <td>2.0</td>\n      <td>0.00</td>\n    </tr>\n    <tr>\n      <th>1181</th>\n      <td>Buraddoo</td>\n      <td>3.0</td>\n      <td>0.00</td>\n    </tr>\n    <tr>\n      <th>1182</th>\n      <td>Puerto Rico</td>\n      <td>37.8</td>\n      <td>8.35</td>\n    </tr>\n    <tr>\n      <th>1183</th>\n      <td>Dinah V</td>\n      <td>3.0</td>\n      <td>0.00</td>\n    </tr>\n  </tbody>\n</table>\n<p>1184 rows × 3 columns</p>\n</div>"
     },
     "execution_count": 6,
     "metadata": {},
     "output_type": "execute_result"
    }
   ],
   "source": [
    "# Zadanie 2\n",
    "\n",
    "# {kraj: [suma_mezczyzn: int, suma_kobiet: int, lata_w_ktorych_wystawili_zawodnikow: set]}\n",
    "sum_of_people = {team: [0, 0, set()] for team in set(df['Team'])}\n",
    "for index, row in df.iterrows():\n",
    "    if row['Sex'] == 'M':\n",
    "        sum_of_people[row['Team']][0] += 1\n",
    "    else:\n",
    "        sum_of_people[row['Team']][1] += 1\n",
    "    sum_of_people[row['Team']][2].add(row['Year'])\n",
    "\n",
    "_average_male = [sum_of_people[key][0] / len(sum_of_people[key][2]) for key in sum_of_people]\n",
    "_average_female = [sum_of_people[key][1] / len(sum_of_people[key][2]) for key in sum_of_people]\n",
    "\n",
    "result_2 = pd.DataFrame(\n",
    "    {\"Team\": sum_of_people.keys(), \"Average_male\": _average_male, \"Average_female\": _average_female})\n",
    "result_2"
   ],
   "metadata": {
    "collapsed": false,
    "pycharm": {
     "name": "#%%\n"
    }
   }
  },
  {
   "cell_type": "code",
   "execution_count": 11,
   "outputs": [
    {
     "data": {
      "text/plain": "            Team  numer of player / number of olympics\n0  United States                            182.280000\n1         France                            113.274510\n2  Great Britain                            112.901961\n3          Italy                             91.921569\n4        Germany                            134.382353",
      "text/html": "<div>\n<style scoped>\n    .dataframe tbody tr th:only-of-type {\n        vertical-align: middle;\n    }\n\n    .dataframe tbody tr th {\n        vertical-align: top;\n    }\n\n    .dataframe thead th {\n        text-align: right;\n    }\n</style>\n<table border=\"1\" class=\"dataframe\">\n  <thead>\n    <tr style=\"text-align: right;\">\n      <th></th>\n      <th>Team</th>\n      <th>numer of player / number of olympics</th>\n    </tr>\n  </thead>\n  <tbody>\n    <tr>\n      <th>0</th>\n      <td>United States</td>\n      <td>182.280000</td>\n    </tr>\n    <tr>\n      <th>1</th>\n      <td>France</td>\n      <td>113.274510</td>\n    </tr>\n    <tr>\n      <th>2</th>\n      <td>Great Britain</td>\n      <td>112.901961</td>\n    </tr>\n    <tr>\n      <th>3</th>\n      <td>Italy</td>\n      <td>91.921569</td>\n    </tr>\n    <tr>\n      <th>4</th>\n      <td>Germany</td>\n      <td>134.382353</td>\n    </tr>\n  </tbody>\n</table>\n</div>"
     },
     "execution_count": 11,
     "metadata": {},
     "output_type": "execute_result"
    }
   ],
   "source": [
    "# Zadanie 3 TODO\n",
    "# {kraj: [liczba_różnych_zawodników, zbiór_zawodników, zbiór_olimpiad]}\n",
    "different_players = {team: [0, set(), set()] for team in set(df['Team'])}\n",
    "for index, row in df.iterrows():\n",
    "    if row['Name'] not in different_players[row['Team']][1]:\n",
    "        different_players[row['Team']][0] += 1\n",
    "        different_players[row['Team']][1].add(row['Name'])\n",
    "    different_players[row['Team']][2].add(row['Games'])\n",
    "\n",
    "top_5_different_team = sorted(different_players, key=different_players.get, reverse=True)[:5]\n",
    "\n",
    "result_3 = pd.DataFrame({\"Team\": top_5_different_team, \"numer of player / number of olympics\": [\n",
    "    different_players[country][0] / len(different_players[country][2]) for country in top_5_different_team]})\n",
    "result_3  # TODO check if diffrent player and len is proper"
   ],
   "metadata": {
    "collapsed": false,
    "pycharm": {
     "name": "#%%\n"
    }
   }
  },
  {
   "cell_type": "code",
   "execution_count": 7,
   "outputs": [],
   "source": [],
   "metadata": {
    "collapsed": false,
    "pycharm": {
     "name": "#%%\n"
    }
   }
  }
 ],
 "metadata": {
  "kernelspec": {
   "display_name": "Python 3 (ipykernel)",
   "language": "python",
   "name": "python3"
  },
  "language_info": {
   "codemirror_mode": {
    "name": "ipython",
    "version": 3
   },
   "file_extension": ".py",
   "mimetype": "text/x-python",
   "name": "python",
   "nbconvert_exporter": "python",
   "pygments_lexer": "ipython3",
   "version": "3.8.5"
  }
 },
 "nbformat": 4,
 "nbformat_minor": 1
}