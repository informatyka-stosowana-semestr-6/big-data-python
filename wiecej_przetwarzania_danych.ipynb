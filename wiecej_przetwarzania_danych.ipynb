{
 "cells": [
  {
   "cell_type": "code",
   "execution_count": 50,
   "metadata": {
    "collapsed": true
   },
   "outputs": [
    {
     "data": {
      "text/plain": "       Order ID                     Product Quantity Ordered Price Each  \\\n0        176558        USB-C Charging Cable                2      11.95   \n1           NaN                         NaN              NaN        NaN   \n2        176559  Bose SoundSport Headphones                1      99.99   \n3        176560                Google Phone                1        600   \n4        176560            Wired Headphones                1      11.99   \n...         ...                         ...              ...        ...   \n186845   259353      AAA Batteries (4-pack)                3       2.99   \n186846   259354                      iPhone                1        700   \n186847   259355                      iPhone                1        700   \n186848   259356      34in Ultrawide Monitor                1     379.99   \n186849   259357        USB-C Charging Cable                1      11.95   \n\n            Order Date                         Purchase Address  \n0       04/19/19 08:46             917 1st St, Dallas, TX 75001  \n1                  NaN                                      NaN  \n2       04/07/19 22:30        682 Chestnut St, Boston, MA 02215  \n3       04/12/19 14:38     669 Spruce St, Los Angeles, CA 90001  \n4       04/12/19 14:38     669 Spruce St, Los Angeles, CA 90001  \n...                ...                                      ...  \n186845  09/17/19 20:56   840 Highland St, Los Angeles, CA 90001  \n186846  09/01/19 16:00  216 Dogwood St, San Francisco, CA 94016  \n186847  09/23/19 07:39     220 12th St, San Francisco, CA 94016  \n186848  09/19/19 17:30   511 Forest St, San Francisco, CA 94016  \n186849  09/30/19 00:18   250 Meadow St, San Francisco, CA 94016  \n\n[186850 rows x 6 columns]",
      "text/html": "<div>\n<style scoped>\n    .dataframe tbody tr th:only-of-type {\n        vertical-align: middle;\n    }\n\n    .dataframe tbody tr th {\n        vertical-align: top;\n    }\n\n    .dataframe thead th {\n        text-align: right;\n    }\n</style>\n<table border=\"1\" class=\"dataframe\">\n  <thead>\n    <tr style=\"text-align: right;\">\n      <th></th>\n      <th>Order ID</th>\n      <th>Product</th>\n      <th>Quantity Ordered</th>\n      <th>Price Each</th>\n      <th>Order Date</th>\n      <th>Purchase Address</th>\n    </tr>\n  </thead>\n  <tbody>\n    <tr>\n      <th>0</th>\n      <td>176558</td>\n      <td>USB-C Charging Cable</td>\n      <td>2</td>\n      <td>11.95</td>\n      <td>04/19/19 08:46</td>\n      <td>917 1st St, Dallas, TX 75001</td>\n    </tr>\n    <tr>\n      <th>1</th>\n      <td>NaN</td>\n      <td>NaN</td>\n      <td>NaN</td>\n      <td>NaN</td>\n      <td>NaN</td>\n      <td>NaN</td>\n    </tr>\n    <tr>\n      <th>2</th>\n      <td>176559</td>\n      <td>Bose SoundSport Headphones</td>\n      <td>1</td>\n      <td>99.99</td>\n      <td>04/07/19 22:30</td>\n      <td>682 Chestnut St, Boston, MA 02215</td>\n    </tr>\n    <tr>\n      <th>3</th>\n      <td>176560</td>\n      <td>Google Phone</td>\n      <td>1</td>\n      <td>600</td>\n      <td>04/12/19 14:38</td>\n      <td>669 Spruce St, Los Angeles, CA 90001</td>\n    </tr>\n    <tr>\n      <th>4</th>\n      <td>176560</td>\n      <td>Wired Headphones</td>\n      <td>1</td>\n      <td>11.99</td>\n      <td>04/12/19 14:38</td>\n      <td>669 Spruce St, Los Angeles, CA 90001</td>\n    </tr>\n    <tr>\n      <th>...</th>\n      <td>...</td>\n      <td>...</td>\n      <td>...</td>\n      <td>...</td>\n      <td>...</td>\n      <td>...</td>\n    </tr>\n    <tr>\n      <th>186845</th>\n      <td>259353</td>\n      <td>AAA Batteries (4-pack)</td>\n      <td>3</td>\n      <td>2.99</td>\n      <td>09/17/19 20:56</td>\n      <td>840 Highland St, Los Angeles, CA 90001</td>\n    </tr>\n    <tr>\n      <th>186846</th>\n      <td>259354</td>\n      <td>iPhone</td>\n      <td>1</td>\n      <td>700</td>\n      <td>09/01/19 16:00</td>\n      <td>216 Dogwood St, San Francisco, CA 94016</td>\n    </tr>\n    <tr>\n      <th>186847</th>\n      <td>259355</td>\n      <td>iPhone</td>\n      <td>1</td>\n      <td>700</td>\n      <td>09/23/19 07:39</td>\n      <td>220 12th St, San Francisco, CA 94016</td>\n    </tr>\n    <tr>\n      <th>186848</th>\n      <td>259356</td>\n      <td>34in Ultrawide Monitor</td>\n      <td>1</td>\n      <td>379.99</td>\n      <td>09/19/19 17:30</td>\n      <td>511 Forest St, San Francisco, CA 94016</td>\n    </tr>\n    <tr>\n      <th>186849</th>\n      <td>259357</td>\n      <td>USB-C Charging Cable</td>\n      <td>1</td>\n      <td>11.95</td>\n      <td>09/30/19 00:18</td>\n      <td>250 Meadow St, San Francisco, CA 94016</td>\n    </tr>\n  </tbody>\n</table>\n<p>186850 rows × 6 columns</p>\n</div>"
     },
     "execution_count": 50,
     "metadata": {},
     "output_type": "execute_result"
    }
   ],
   "source": [
    "import os\n",
    "import math\n",
    "import pandas as pd\n",
    "\n",
    "all_files = os.listdir('archive')\n",
    "df = pd.read_csv(f\"archive/{all_files[0]}\")\n",
    "\n",
    "for file in all_files[1:]:\n",
    "    df_pom = pd.read_csv(f\"archive/{file}\")\n",
    "    df = pd.concat([df, df_pom], ignore_index=True)\n",
    "# for index, row in df.iterrows():\n",
    "#     if str(row['Order ID']) == 'Order ID' or math.isnan(float(row['Order ID'])):\n",
    "#         df.drop(df.index[index], inplace=True)\n",
    "df"
   ]
  },
  {
   "cell_type": "code",
   "execution_count": 52,
   "outputs": [
    {
     "data": {
      "text/plain": "          Day  Total price\n0    01/07/19     53676.42\n1    11/01/19    107058.90\n2    10/16/19    114107.87\n3    04/01/19    112697.76\n4    09/12/19     74776.11\n..        ...          ...\n363  11/23/19    102594.45\n364  02/02/19     77893.74\n365  08/20/19     74967.59\n366  12/11/19    146367.03\n367  02/26/19     80006.81\n\n[368 rows x 2 columns]",
      "text/html": "<div>\n<style scoped>\n    .dataframe tbody tr th:only-of-type {\n        vertical-align: middle;\n    }\n\n    .dataframe tbody tr th {\n        vertical-align: top;\n    }\n\n    .dataframe thead th {\n        text-align: right;\n    }\n</style>\n<table border=\"1\" class=\"dataframe\">\n  <thead>\n    <tr style=\"text-align: right;\">\n      <th></th>\n      <th>Day</th>\n      <th>Total price</th>\n    </tr>\n  </thead>\n  <tbody>\n    <tr>\n      <th>0</th>\n      <td>01/07/19</td>\n      <td>53676.42</td>\n    </tr>\n    <tr>\n      <th>1</th>\n      <td>11/01/19</td>\n      <td>107058.90</td>\n    </tr>\n    <tr>\n      <th>2</th>\n      <td>10/16/19</td>\n      <td>114107.87</td>\n    </tr>\n    <tr>\n      <th>3</th>\n      <td>04/01/19</td>\n      <td>112697.76</td>\n    </tr>\n    <tr>\n      <th>4</th>\n      <td>09/12/19</td>\n      <td>74776.11</td>\n    </tr>\n    <tr>\n      <th>...</th>\n      <td>...</td>\n      <td>...</td>\n    </tr>\n    <tr>\n      <th>363</th>\n      <td>11/23/19</td>\n      <td>102594.45</td>\n    </tr>\n    <tr>\n      <th>364</th>\n      <td>02/02/19</td>\n      <td>77893.74</td>\n    </tr>\n    <tr>\n      <th>365</th>\n      <td>08/20/19</td>\n      <td>74967.59</td>\n    </tr>\n    <tr>\n      <th>366</th>\n      <td>12/11/19</td>\n      <td>146367.03</td>\n    </tr>\n    <tr>\n      <th>367</th>\n      <td>02/26/19</td>\n      <td>80006.81</td>\n    </tr>\n  </tbody>\n</table>\n<p>368 rows × 2 columns</p>\n</div>"
     },
     "execution_count": 52,
     "metadata": {},
     "output_type": "execute_result"
    }
   ],
   "source": [
    "# zadanie 1\n",
    "days = set([str(data).split(\" \")[0] for data in df['Order Date'] if data != 'NaN'])\n",
    "total_amount = {day: 0 for day in days}\n",
    "for index, row in df.iterrows():\n",
    "    if str(row['Order ID']) != 'Order ID' and not math.isnan(float(row['Quantity Ordered'])):\n",
    "        total_amount[str(row['Order Date']).split(\" \")[0]] += int(row['Quantity Ordered']) * float(row['Price Each'])\n",
    "\n",
    "total_amount_result = pd.DataFrame({\"Day\": total_amount.keys(), \"Total price sum\": total_amount.values()})\n",
    "total_amount_result"
   ],
   "metadata": {
    "collapsed": false,
    "pycharm": {
     "name": "#%%\n"
    }
   }
  },
  {
   "cell_type": "code",
   "execution_count": 75,
   "outputs": [
    {
     "data": {
      "text/plain": "               top products  Total sales  Total price sum  quarter 1  \\\n0      USB-C Charging Cable        21903        286501.25       4458   \n1  Lightning Charging Cable        21658        347094.15       4219   \n2    AAA Batteries (4-pack)        20641         92740.83       4052   \n\n   quarter 2  quarter 3  quarter 4  \n0       7163       7302       2980  \n1       7392       7154       2893  \n2       6893       6865       2831  ",
      "text/html": "<div>\n<style scoped>\n    .dataframe tbody tr th:only-of-type {\n        vertical-align: middle;\n    }\n\n    .dataframe tbody tr th {\n        vertical-align: top;\n    }\n\n    .dataframe thead th {\n        text-align: right;\n    }\n</style>\n<table border=\"1\" class=\"dataframe\">\n  <thead>\n    <tr style=\"text-align: right;\">\n      <th></th>\n      <th>top products</th>\n      <th>Total sales</th>\n      <th>Total price sum</th>\n      <th>quarter 1</th>\n      <th>quarter 2</th>\n      <th>quarter 3</th>\n      <th>quarter 4</th>\n    </tr>\n  </thead>\n  <tbody>\n    <tr>\n      <th>0</th>\n      <td>USB-C Charging Cable</td>\n      <td>21903</td>\n      <td>286501.25</td>\n      <td>4458</td>\n      <td>7163</td>\n      <td>7302</td>\n      <td>2980</td>\n    </tr>\n    <tr>\n      <th>1</th>\n      <td>Lightning Charging Cable</td>\n      <td>21658</td>\n      <td>347094.15</td>\n      <td>4219</td>\n      <td>7392</td>\n      <td>7154</td>\n      <td>2893</td>\n    </tr>\n    <tr>\n      <th>2</th>\n      <td>AAA Batteries (4-pack)</td>\n      <td>20641</td>\n      <td>92740.83</td>\n      <td>4052</td>\n      <td>6893</td>\n      <td>6865</td>\n      <td>2831</td>\n    </tr>\n  </tbody>\n</table>\n</div>"
     },
     "execution_count": 75,
     "metadata": {},
     "output_type": "execute_result"
    }
   ],
   "source": [
    "# zadanie 2\n",
    "# {produkt: [ilość, suma, kwartal_1, kwartal_2, kwartal_3, kwartal_4]}\n",
    "products = {product: [0, 0, 0, 0, 0, 0] for product in df['Product']}\n",
    "for index, row in df.iterrows():\n",
    "    if str(row['Order ID']) != 'Order ID' and not math.isnan(float(row['Quantity Ordered'])):\n",
    "        # ilość sprzedanych\n",
    "        products[row['Product']][0] += 1\n",
    "        # suma\n",
    "        products[row['Product']][1] += int(row['Quantity Ordered']) * float(row['Price Each'])\n",
    "        #wybór kwartału\n",
    "        products[row['Product']][int(int(str(df['Order Date'][index]).split(\" \")[0].split(\"/\")[0]) / 4) + 2] += 1\n",
    "\n",
    "top_3_products = sorted(products, key=products.get, reverse=True)[:3]\n",
    "top_3_result = pd.DataFrame({\"top products\": top_3_products, \"Total sales\": [products[product][0] for product in top_3_products]\n",
    ", \"Total price sum\": [products[product][1] for product in top_3_products], \"quarter 1\": [products[product][2] for product in top_3_products], \"quarter 2\": [products[product][3] for product in top_3_products], \"quarter 3\": [products[product][4] for product in top_3_products], \"quarter 4\": [products[product][5] for product in top_3_products]})\n",
    "\n",
    "# show results\n",
    "top_3_result"
   ],
   "metadata": {
    "collapsed": false,
    "pycharm": {
     "name": "#%%\n"
    }
   }
  },
  {
   "cell_type": "code",
   "execution_count": 108,
   "outputs": [
    {
     "data": {
      "text/plain": "  State  Count  part of all order\n0    CA  74337           0.399769\n1    NY  24876           0.133778\n2    TX  24725           0.132966\n3    MA  19934           0.107201\n4    GA  14881           0.080027",
      "text/html": "<div>\n<style scoped>\n    .dataframe tbody tr th:only-of-type {\n        vertical-align: middle;\n    }\n\n    .dataframe tbody tr th {\n        vertical-align: top;\n    }\n\n    .dataframe thead th {\n        text-align: right;\n    }\n</style>\n<table border=\"1\" class=\"dataframe\">\n  <thead>\n    <tr style=\"text-align: right;\">\n      <th></th>\n      <th>State</th>\n      <th>Count</th>\n      <th>part of all order</th>\n    </tr>\n  </thead>\n  <tbody>\n    <tr>\n      <th>0</th>\n      <td>CA</td>\n      <td>74337</td>\n      <td>0.399769</td>\n    </tr>\n    <tr>\n      <th>1</th>\n      <td>NY</td>\n      <td>24876</td>\n      <td>0.133778</td>\n    </tr>\n    <tr>\n      <th>2</th>\n      <td>TX</td>\n      <td>24725</td>\n      <td>0.132966</td>\n    </tr>\n    <tr>\n      <th>3</th>\n      <td>MA</td>\n      <td>19934</td>\n      <td>0.107201</td>\n    </tr>\n    <tr>\n      <th>4</th>\n      <td>GA</td>\n      <td>14881</td>\n      <td>0.080027</td>\n    </tr>\n  </tbody>\n</table>\n</div>"
     },
     "execution_count": 108,
     "metadata": {},
     "output_type": "execute_result"
    }
   ],
   "source": [
    "# zadanie 3\n",
    "states = {str(state).split(\" \")[-2]: 0 for state in df['Purchase Address'] if not isinstance(state, float) and str(state) != 'Purchase Address'}\n",
    "all_order = 0\n",
    "for index, row in df.iterrows():\n",
    "    if str(row['Purchase Address']) != 'Purchase Address' and not isinstance(row['Purchase Address'], float):\n",
    "        states[row['Purchase Address'].split(\" \")[-2]] += 1\n",
    "        all_order += 1\n",
    "\n",
    "top_5_states = sorted(states, key=states.get, reverse=True)[:5]\n",
    "top_5_states_results = pd.DataFrame({\"State\": top_5_states, \"Count\": [states[state] for state in top_5_states], \"part of all orders\": [states[state] / all_order for state in top_5_states]})\n",
    "\n",
    "top_5_states_results"
   ],
   "metadata": {
    "collapsed": false,
    "pycharm": {
     "name": "#%%\n"
    }
   }
  },
  {
   "cell_type": "code",
   "execution_count": 75,
   "outputs": [],
   "source": [],
   "metadata": {
    "collapsed": false,
    "pycharm": {
     "name": "#%%\n"
    }
   }
  },
  {
   "cell_type": "code",
   "execution_count": null,
   "outputs": [],
   "source": [],
   "metadata": {
    "collapsed": false,
    "pycharm": {
     "name": "#%%\n"
    }
   }
  }
 ],
 "metadata": {
  "kernelspec": {
   "display_name": "Python 3",
   "language": "python",
   "name": "python3"
  },
  "language_info": {
   "codemirror_mode": {
    "name": "ipython",
    "version": 2
   },
   "file_extension": ".py",
   "mimetype": "text/x-python",
   "name": "python",
   "nbconvert_exporter": "python",
   "pygments_lexer": "ipython2",
   "version": "2.7.6"
  }
 },
 "nbformat": 4,
 "nbformat_minor": 0
}